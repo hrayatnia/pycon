{
 "cells": [
  {
   "cell_type": "code",
   "execution_count": 1,
   "metadata": {
    "collapsed": false
   },
   "outputs": [
    {
     "name": "stdout",
     "output_type": "stream",
     "text": [
      "Using matplotlib backend: MacOSX\n",
      "Populating the interactive namespace from numpy and matplotlib\n"
     ]
    }
   ],
   "source": [
    "%pylab\n",
    "\n",
    "# import some needed functions\n",
    "from scipy.integrate import odeint\n",
    "\n",
    "# set up a dictionary of parameters\n",
    "\n",
    "E_params = {\n",
    "        'E_leak' : -7.0e-2,\n",
    "        'G_leak' : 3.0e-09,\n",
    "        'C_m'    : 3.0e-11,\n",
    "        'I_ext'  : 0*1.0e-10\n",
    "}\n",
    "\n",
    "Na_params = {\n",
    "        'Na_E'          : 5.0e-2,\n",
    "        'Na_G'          : 1.0e-6,\n",
    "        'k_Na_act'      : 3.0e+0,\n",
    "        'A_alpha_m_act' : 2.0e+5,\n",
    "        'B_alpha_m_act' : -4.0e-2,\n",
    "        'C_alpha_m_act' : 1.0e-3,\n",
    "        'A_beta_m_act'  : 6.0e+4,\n",
    "        'B_beta_m_act'  : -4.9e-2,\n",
    "        'C_beta_m_act'  : 2.0e-2,\n",
    "        'l_Na_inact'    : 1.0e+0,\n",
    "        'A_alpha_m_inact' : 8.0e+4,\n",
    "        'B_alpha_m_inact' : -4.0e-2,\n",
    "        'C_alpha_m_inact' : 1.0e-3,\n",
    "        'A_beta_m_inact'  : 4.0e+2,\n",
    "        'B_beta_m_inact'  : -3.6e-2,\n",
    "        'C_beta_m_inact'  : 2.0e-3\n",
    "}\n",
    "\n",
    "K_params = {\n",
    "        'k_E'           : -9.0e-2,\n",
    "        'k_G'           : 2.0e-7,\n",
    "        'k_K'           : 4.0e+0,\n",
    "        'A_alpha_m_act' : 2.0e+4,\n",
    "        'B_alpha_m_act' : -3.1e-2,\n",
    "        'C_alpha_m_act' : 8.0e-4,\n",
    "        'A_beta_m_act'  : 5.0e+3,\n",
    "        'B_beta_m_act'  : -2.8e-2,\n",
    "        'C_beta_m_act'  : 4.0e-4\n",
    "}\n",
    "\n",
    "params = {\n",
    "        'E_params'  : E_params,\n",
    "        'Na_params' : Na_params,\n",
    "        'K_params'  : K_params\n",
    "}\n"
   ]
  },
  {
   "cell_type": "code",
   "execution_count": 2,
   "metadata": {
    "collapsed": true
   },
   "outputs": [],
   "source": [
    "# define our ODE function\n",
    "\n",
    "def neuron(state, t, params):\n",
    "        \"\"\"\n",
    "         Purpose: simulate Hodgkin and Huxley model for the action potential using\n",
    "         the equations from Ekeberg et al, Biol Cyb, 1991.\n",
    "         Input: state ([E m h n] (ie [membrane potential; activation of\n",
    "                  Na++ channel; inactivation of Na++ channel; activation of K+\n",
    "                  channel]),\n",
    "                t (time),\n",
    "                and the params (parameters of neuron; see Ekeberg et al).\n",
    "         Output: statep (state derivatives).\n",
    "        \"\"\"\n",
    "\n",
    "        E = state[0]\n",
    "        m = state[1]\n",
    "        h = state[2]\n",
    "        n = state[3]\n",
    "\n",
    "        Epar = params['E_params']\n",
    "        Na   = params['Na_params']\n",
    "        K    = params['K_params']\n",
    "\n",
    "        # external current (from \"voltage clamp\", other compartments, other neurons, etc)\n",
    "        I_ext = Epar['I_ext']\n",
    "\n",
    "        # calculate Na rate functions and I_Na\n",
    "        alpha_act = Na['A_alpha_m_act'] * (E-Na['B_alpha_m_act']) / (1.0 - exp((Na['B_alpha_m_act']-E) / Na['C_alpha_m_act']))\n",
    "        beta_act = Na['A_beta_m_act'] * (Na['B_beta_m_act']-E) / (1.0 - exp((E-Na['B_beta_m_act']) / Na['C_beta_m_act']) )\n",
    "        dmdt = ( alpha_act * (1.0 - m) ) - ( beta_act * m )\n",
    "\n",
    "        alpha_inact = Na['A_alpha_m_inact'] * (Na['B_alpha_m_inact']-E) / (1.0 - exp((E-Na['B_alpha_m_inact']) / Na['C_alpha_m_inact']))\n",
    "        beta_inact  = Na['A_beta_m_inact'] / (1.0 + (exp((Na['B_beta_m_inact']-E) / Na['C_beta_m_inact'])))\n",
    "        dhdt = ( alpha_inact*(1.0 - h) ) - ( beta_inact*h )\n",
    "\n",
    "        # Na-current:\n",
    "        I_Na =(Na['Na_E']-E) * Na['Na_G'] * (m**Na['k_Na_act']) * h\n",
    "\n",
    "        # calculate K rate functions and I_K\n",
    "        alpha_kal = K['A_alpha_m_act'] * (E-K['B_alpha_m_act']) / (1.0 - exp((K['B_alpha_m_act']-E) / K['C_alpha_m_act']))\n",
    "        beta_kal = K['A_beta_m_act'] * (K['B_beta_m_act']-E) / (1.0 - exp((E-K['B_beta_m_act']) / K['C_beta_m_act']))\n",
    "        dndt = ( alpha_kal*(1.0 - n) ) - ( beta_kal*n )\n",
    "        I_K = (K['k_E']-E) * K['k_G'] * n**K['k_K']\n",
    "\n",
    "        # leak current\n",
    "        I_leak = (Epar['E_leak']-E) * Epar['G_leak']\n",
    "\n",
    "        # calculate derivative of E\n",
    "        dEdt = (I_leak + I_K + I_Na + I_ext) / Epar['C_m']\n",
    "        statep = [dEdt, dmdt, dhdt, dndt]\n",
    "\n",
    "        return statep"
   ]
  },
  {
   "cell_type": "code",
   "execution_count": 3,
   "metadata": {
    "collapsed": false
   },
   "outputs": [],
   "source": [
    "# simulate\n",
    "\n",
    "# set initial states and time vector\n",
    "state0 = [-70e-03, 0, 1, 0]\n",
    "t = arange(0, 0.2, 0.001)\n",
    "\n",
    "# let's inject some external current\n",
    "params['E_params']['I_ext'] = 1.0e-10\n",
    "\n",
    "# run simulation\n",
    "state = odeint(neuron, state0, t, args=(params,))"
   ]
  },
  {
   "cell_type": "code",
   "execution_count": 4,
   "metadata": {
    "collapsed": false
   },
   "outputs": [
    {
     "data": {
      "text/plain": [
       "<matplotlib.text.Text at 0x10a38c450>"
      ]
     },
     "execution_count": 4,
     "metadata": {},
     "output_type": "execute_result"
    }
   ],
   "source": [
    "# plot the results\n",
    "\n",
    "figure(figsize=(8,12))\n",
    "subplot(4,1,1)\n",
    "plot(t, state[:,0])\n",
    "title('membrane potential')\n",
    "subplot(4,1,2)\n",
    "plot(t, state[:,1])\n",
    "title('Na2+ channel activation')\n",
    "subplot(4,1,3)\n",
    "plot(t, state[:,2])\n",
    "title('Na2+ channel inactivation')\n",
    "subplot(4,1,4)\n",
    "plot(t, state[:,3])\n",
    "title('K+ channel activation')\n",
    "xlabel('TIME (sec)')"
   ]
  },
  {
   "cell_type": "code",
   "execution_count": null,
   "metadata": {
    "collapsed": true
   },
   "outputs": [],
   "source": []
  },
  {
   "cell_type": "code",
   "execution_count": null,
   "metadata": {
    "collapsed": true
   },
   "outputs": [],
   "source": []
  }
 ],
 "metadata": {
  "kernelspec": {
   "display_name": "Python 2",
   "language": "python",
   "name": "python2"
  },
  "language_info": {
   "codemirror_mode": {
    "name": "ipython",
    "version": 2
   },
   "file_extension": ".py",
   "mimetype": "text/x-python",
   "name": "python",
   "nbconvert_exporter": "python",
   "pygments_lexer": "ipython2",
   "version": "2.7.10"
  }
 },
 "nbformat": 4,
 "nbformat_minor": 0
}
