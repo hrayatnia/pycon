{
 "cells": [
  {
   "cell_type": "code",
   "execution_count": 1,
   "metadata": {
    "collapsed": false
   },
   "outputs": [
    {
     "name": "stdout",
     "output_type": "stream",
     "text": [
      "Using matplotlib backend: MacOSX\n",
      "Populating the interactive namespace from numpy and matplotlib\n"
     ]
    }
   ],
   "source": [
    "%pylab\n",
    "from numpy import *\n",
    "\n",
    "## setup parameters and state variables\n",
    "T       = 1000                  # total time to simulate (msec)\n",
    "dt      = 0.125               # simulation time step (msec)\n",
    "time    = arange(0, T+dt, dt) # time array\n",
    "t_rest  = 0                   # initial refractory time\n",
    "\n",
    "## LIF properties\n",
    "Vm      = zeros(len(time))    # potential (V) trace over time\n",
    "Rm      = 1                   # resistance (kOhm)\n",
    "Cm      = 10                  # capacitance (uF)\n",
    "tau_m   = Rm*Cm               # time constant (msec)\n",
    "tau_ref = 4                   # refractory period (msec)\n",
    "Vth     = 1                   # spike threshold (V)\n",
    "V_spike = -50                 # spike delta (V)\n",
    "\n",
    "## Stimulus\n",
    "I       = 4                 # input current (A)\n",
    "\n",
    "## iterate over each time step\n",
    "for i, t in enumerate(time):\n",
    "    Vm[i] = Vm[i-1] + (-Vm[i-1] + I*Rm) / tau_m * dt\n",
    "    if Vm[i-1] >= Vth:\n",
    "        Vm[i] = V_spike\n",
    "    t_rest = t + tau_ref\n",
    "\n",
    "## plot membrane potential trace\n",
    "plot(time, Vm)\n",
    "title('Leaky Integrate-and-Fire Example')\n",
    "ylabel('Membrane Potential (V)')\n",
    "xlabel('Time (msec)')\n",
    "ylim([0,2])\n",
    "show()"
   ]
  },
  {
   "cell_type": "code",
   "execution_count": 3,
   "metadata": {
    "collapsed": false
   },
   "outputs": [
    {
     "name": "stderr",
     "output_type": "stream",
     "text": [
      "brian.equations   : WARNING  Equation variable I also exists in the namespace\n",
      "WARNING:brian.equations:Equation variable I also exists in the namespace\n"
     ]
    }
   ],
   "source": [
    "# %load LIF_Brain.py\n",
    "from brian import *\n",
    "from numpy import *\n",
    "\n",
    "if __name__ == '__main__':\n",
    "\tN = 1 # number of neurons\n",
    "\n",
    "\ttau_m = 10 * ms # membrane time constant\n",
    "\tv_r = 0 * mV # reset potential\n",
    "\tv_th = 15 * mV # threshold potential\n",
    "\tI_c = 20 * mV # constant input current\n",
    "\n",
    "\teqs = '''\n",
    "\tdv/dt = -(v-I)/tau_m : volt\n",
    "\tI : volt\n",
    "\t'''\n",
    "\n",
    "\tlif = NeuronGroup(N, model=eqs, threshold=v_th, reset=v_r)\n",
    "\t# You can add randomness in initial membrane potential by changing the following line\n",
    "\tlif.v = v_r * mV + 0 * mV * rand(len(lif))\n",
    "\tlif.I = I_c\n",
    "\n",
    "\tspikes = SpikeMonitor(lif)\n",
    "\tv_trace = StateMonitor(lif, 'v', record=True)\n",
    "\n",
    "\trun(0.1*second)\n",
    "\n",
    "\tfigure(1)\n",
    "\tplot(v_trace.times/ms,v_trace[0]/mV)\n",
    "\txlabel('Time (ms)', fontsize=24)"
   ]
  },
  {
   "cell_type": "code",
   "execution_count": null,
   "metadata": {
    "collapsed": true
   },
   "outputs": [],
   "source": []
  }
 ],
 "metadata": {
  "kernelspec": {
   "display_name": "Python 2",
   "language": "python",
   "name": "python2"
  },
  "language_info": {
   "codemirror_mode": {
    "name": "ipython",
    "version": 2
   },
   "file_extension": ".py",
   "mimetype": "text/x-python",
   "name": "python",
   "nbconvert_exporter": "python",
   "pygments_lexer": "ipython2",
   "version": "2.7.10"
  }
 },
 "nbformat": 4,
 "nbformat_minor": 0
}
