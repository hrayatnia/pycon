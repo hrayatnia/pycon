{
 "cells": [
  {
   "cell_type": "code",
   "execution_count": 1,
   "metadata": {
    "collapsed": false
   },
   "outputs": [
    {
     "name": "stdout",
     "output_type": "stream",
     "text": [
      "Using matplotlib backend: MacOSX\n",
      "Populating the interactive namespace from numpy and matplotlib\n"
     ]
    },
    {
     "data": {
      "text/plain": [
       "<matplotlib.legend.Legend at 0x1091aafd0>"
      ]
     },
     "execution_count": 1,
     "metadata": {},
     "output_type": "execute_result"
    }
   ],
   "source": [
    "%pylab\n",
    "from scipy.integrate import odeint\n",
    "\n",
    "def MassSpring(state,t):\n",
    "  # unpack the state vector\n",
    "  x = state[0]\n",
    "  xd = state[1]\n",
    "  # these are our constants\n",
    "  k = 2.5 # Newtons per metre\n",
    "  m = 1.5 # Kilograms\n",
    "  g = 9.8 # metres per second\n",
    "  # compute acceleration xdd\n",
    "  xdd = ((-k*x)/m) + g\n",
    "  # return the two state derivatives\n",
    "  return [xd, xdd]\n",
    "\n",
    "state0 = [0.0, 0.0]\n",
    "t = arange(0.0, 10.0, 0.1)\n",
    "state = odeint(MassSpring, state0, t)\n",
    "plot(t, state)\n",
    "xlabel('TIME (sec)')\n",
    "ylabel('STATES')\n",
    "title('Mass-Spring System')\n",
    "legend(('$x$ (m)', '$\\dot{x}$ (m/sec)'))"
   ]
  },
  {
   "cell_type": "code",
   "execution_count": null,
   "metadata": {
    "collapsed": true
   },
   "outputs": [],
   "source": []
  }
 ],
 "metadata": {
  "kernelspec": {
   "display_name": "Python 2",
   "language": "python",
   "name": "python2"
  },
  "language_info": {
   "codemirror_mode": {
    "name": "ipython",
    "version": 2
   },
   "file_extension": ".py",
   "mimetype": "text/x-python",
   "name": "python",
   "nbconvert_exporter": "python",
   "pygments_lexer": "ipython2",
   "version": "2.7.10"
  }
 },
 "nbformat": 4,
 "nbformat_minor": 0
}
